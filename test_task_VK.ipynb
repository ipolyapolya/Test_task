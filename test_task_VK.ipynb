{
 "cells": [
  {
   "cell_type": "markdown",
   "id": "c83c6b5e",
   "metadata": {
    "toc": true
   },
   "source": [
    "<h1>Table of Contents<span class=\"tocSkip\"></span></h1>\n",
    "<div class=\"toc\"><ul class=\"toc-item\"><li><span><a href=\"#Знакомство-с-данными\" data-toc-modified-id=\"Знакомство-с-данными-1\"><span class=\"toc-item-num\">1&nbsp;&nbsp;</span>Знакомство с данными</a></span><ul class=\"toc-item\"><li><span><a href=\"#Выводы\" data-toc-modified-id=\"Выводы-1.1\"><span class=\"toc-item-num\">1.1&nbsp;&nbsp;</span>Выводы</a></span></li></ul></li><li><span><a href=\"#Подготовка-данных\" data-toc-modified-id=\"Подготовка-данных-2\"><span class=\"toc-item-num\">2&nbsp;&nbsp;</span>Подготовка данных</a></span><ul class=\"toc-item\"><li><span><a href=\"#Форматы\" data-toc-modified-id=\"Форматы-2.1\"><span class=\"toc-item-num\">2.1&nbsp;&nbsp;</span>Форматы</a></span></li><li><span><a href=\"#Проверка-на-дубликаты\" data-toc-modified-id=\"Проверка-на-дубликаты-2.2\"><span class=\"toc-item-num\">2.2&nbsp;&nbsp;</span>Проверка на дубликаты</a></span></li><li><span><a href=\"#Преобразование-таблицы\" data-toc-modified-id=\"Преобразование-таблицы-2.3\"><span class=\"toc-item-num\">2.3&nbsp;&nbsp;</span>Преобразование таблицы</a></span></li><li><span><a href=\"#Выводы\" data-toc-modified-id=\"Выводы-2.4\"><span class=\"toc-item-num\">2.4&nbsp;&nbsp;</span>Выводы</a></span></li></ul></li><li><span><a href=\"#Анализ-данных\" data-toc-modified-id=\"Анализ-данных-3\"><span class=\"toc-item-num\">3&nbsp;&nbsp;</span>Анализ данных</a></span><ul class=\"toc-item\"><li><span><a href=\"#Общие-наблюдения\" data-toc-modified-id=\"Общие-наблюдения-3.1\"><span class=\"toc-item-num\">3.1&nbsp;&nbsp;</span>Общие наблюдения</a></span></li><li><span><a href=\"#Распределение-пользователей-по-наличию-приложений-на-разных-платформах\" data-toc-modified-id=\"Распределение-пользователей-по-наличию-приложений-на-разных-платформах-3.2\"><span class=\"toc-item-num\">3.2&nbsp;&nbsp;</span>Распределение пользователей по наличию приложений на разных платформах</a></span></li><li><span><a href=\"#Территориальное-расположение-пользователей-в-Москве\" data-toc-modified-id=\"Территориальное-расположение-пользователей-в-Москве-3.3\"><span class=\"toc-item-num\">3.3&nbsp;&nbsp;</span>Территориальное расположение пользователей в Москве</a></span></li><li><span><a href=\"#GMV\" data-toc-modified-id=\"GMV-3.4\"><span class=\"toc-item-num\">3.4&nbsp;&nbsp;</span>GMV</a></span></li></ul></li><li><span><a href=\"#Основные-выводы-и-итоги\" data-toc-modified-id=\"Основные-выводы-и-итоги-4\"><span class=\"toc-item-num\">4&nbsp;&nbsp;</span>Основные выводы и итоги</a></span></li></ul></div>"
   ]
  },
  {
   "cell_type": "markdown",
   "id": "953daab9",
   "metadata": {},
   "source": [
    "# Тестовое задание для ВК Музыки"
   ]
  },
  {
   "cell_type": "markdown",
   "id": "f441cb8e",
   "metadata": {},
   "source": [
    "**Данные: информация о 4х компаниях: Red, Black, Green, BLue.**\n",
    "\n",
    "- hid: зашифрованный персональный идентификатор пользователя компаний\n",
    "- has_company_id: наличие зарегистрированного аккаунта в компании\n",
    "- company_gmv_total: суммарный gmv пользователя в сервисе\n",
    "- company_gvm_order_count: количество успешных заказов пользователя в сервисе\n",
    "- company_activity_count: количество активных действий пользователя в сервисе\n",
    "- company_android: установленное у пользователя приложение компании на платформе Android\n",
    "- company_apple: установленное у пользователя приложение компании на платформе Apple\n",
    "- company_web: установленное у пользователя приложение компании на ПК\n",
    "- is_msk: территориальное расположение в Москве\n",
    "\n",
    "**Задача:** сделать выводы о поведение пользователей в сервисе\n",
    "\n",
    "**Этапе:** \n",
    "1. Выгрузка и знакомство с данными \n",
    "2. Подготовка данных (пропуски, дубликаты, формат)\n",
    "3. анализ данных, выявление закономерностей\n",
    "4. Выводы"
   ]
  },
  {
   "cell_type": "markdown",
   "id": "7ba7fd01",
   "metadata": {},
   "source": [
    "Gross merchandise value (GMV) refers to the value of goods sold via customer-to-customer or e-commerce platforms."
   ]
  },
  {
   "cell_type": "markdown",
   "id": "521110cb",
   "metadata": {},
   "source": [
    "## Знакомство с данными"
   ]
  },
  {
   "cell_type": "code",
   "execution_count": 1,
   "id": "8caabd24",
   "metadata": {},
   "outputs": [],
   "source": [
    "import pandas as pd\n",
    "import numpy as np\n",
    "import seaborn as sns\n",
    "import matplotlib.pyplot as plt\n",
    "from scipy import stats as st\n",
    "from datetime import datetime, timedelta\n",
    "import re\n",
    "\n",
    "%matplotlib inline "
   ]
  },
  {
   "cell_type": "code",
   "execution_count": 2,
   "id": "32a05ede",
   "metadata": {},
   "outputs": [],
   "source": [
    "df = pd.read_excel('Analytic_test.xlsx', skiprows=1)"
   ]
  },
  {
   "cell_type": "code",
   "execution_count": 3,
   "id": "17627c09",
   "metadata": {},
   "outputs": [],
   "source": [
    "df = df.drop(['Unnamed: 0'], axis=1)"
   ]
  },
  {
   "cell_type": "code",
   "execution_count": 4,
   "id": "f9d6496d",
   "metadata": {},
   "outputs": [
    {
     "data": {
      "text/html": [
       "<div>\n",
       "<style scoped>\n",
       "    .dataframe tbody tr th:only-of-type {\n",
       "        vertical-align: middle;\n",
       "    }\n",
       "\n",
       "    .dataframe tbody tr th {\n",
       "        vertical-align: top;\n",
       "    }\n",
       "\n",
       "    .dataframe thead th {\n",
       "        text-align: right;\n",
       "    }\n",
       "</style>\n",
       "<table border=\"1\" class=\"dataframe\">\n",
       "  <thead>\n",
       "    <tr style=\"text-align: right;\">\n",
       "      <th></th>\n",
       "      <th>HID</th>\n",
       "      <th>active_Red</th>\n",
       "      <th>has_Green_id</th>\n",
       "      <th>has_Black_id</th>\n",
       "      <th>has_Blue_id</th>\n",
       "      <th>Blue_activity_count</th>\n",
       "      <th>Blue_gmv_total</th>\n",
       "      <th>Green_gvm_total</th>\n",
       "      <th>Green_gvm_order_count</th>\n",
       "      <th>Black_gvm_total</th>\n",
       "      <th>...</th>\n",
       "      <th>Blue_android</th>\n",
       "      <th>Red_apple</th>\n",
       "      <th>Green_apple</th>\n",
       "      <th>Black_apple</th>\n",
       "      <th>Blue_apple</th>\n",
       "      <th>is_msk</th>\n",
       "      <th>Red_web</th>\n",
       "      <th>Green_web</th>\n",
       "      <th>Black_web</th>\n",
       "      <th>Blue_web</th>\n",
       "    </tr>\n",
       "  </thead>\n",
       "  <tbody>\n",
       "    <tr>\n",
       "      <th>0</th>\n",
       "      <td>00003c7fb5e57ce673f1801f3679f5c25</td>\n",
       "      <td>0.0</td>\n",
       "      <td>0.0</td>\n",
       "      <td>0.0</td>\n",
       "      <td>1.0</td>\n",
       "      <td>2.0</td>\n",
       "      <td>0.0</td>\n",
       "      <td>0.0</td>\n",
       "      <td>0.0</td>\n",
       "      <td>0.0</td>\n",
       "      <td>...</td>\n",
       "      <td>0.0</td>\n",
       "      <td>0.0</td>\n",
       "      <td>0.0</td>\n",
       "      <td>0.0</td>\n",
       "      <td>0.0</td>\n",
       "      <td>0.0</td>\n",
       "      <td>0.0</td>\n",
       "      <td>0.0</td>\n",
       "      <td>0.0</td>\n",
       "      <td>0.0</td>\n",
       "    </tr>\n",
       "    <tr>\n",
       "      <th>1</th>\n",
       "      <td>00006b602533083e3bebfcbff08613931</td>\n",
       "      <td>1.0</td>\n",
       "      <td>0.0</td>\n",
       "      <td>0.0</td>\n",
       "      <td>0.0</td>\n",
       "      <td>0.0</td>\n",
       "      <td>0.0</td>\n",
       "      <td>0.0</td>\n",
       "      <td>0.0</td>\n",
       "      <td>0.0</td>\n",
       "      <td>...</td>\n",
       "      <td>0.0</td>\n",
       "      <td>0.0</td>\n",
       "      <td>0.0</td>\n",
       "      <td>0.0</td>\n",
       "      <td>0.0</td>\n",
       "      <td>0.0</td>\n",
       "      <td>1.0</td>\n",
       "      <td>0.0</td>\n",
       "      <td>0.0</td>\n",
       "      <td>0.0</td>\n",
       "    </tr>\n",
       "    <tr>\n",
       "      <th>2</th>\n",
       "      <td>0000736c3f76339196cb1cc759b8363b</td>\n",
       "      <td>1.0</td>\n",
       "      <td>0.0</td>\n",
       "      <td>0.0</td>\n",
       "      <td>0.0</td>\n",
       "      <td>0.0</td>\n",
       "      <td>0.0</td>\n",
       "      <td>0.0</td>\n",
       "      <td>0.0</td>\n",
       "      <td>0.0</td>\n",
       "      <td>...</td>\n",
       "      <td>0.0</td>\n",
       "      <td>1.0</td>\n",
       "      <td>0.0</td>\n",
       "      <td>1.0</td>\n",
       "      <td>0.0</td>\n",
       "      <td>0.0</td>\n",
       "      <td>0.0</td>\n",
       "      <td>0.0</td>\n",
       "      <td>0.0</td>\n",
       "      <td>0.0</td>\n",
       "    </tr>\n",
       "    <tr>\n",
       "      <th>3</th>\n",
       "      <td>00009bdcc5307b38efde8690b8bd658e</td>\n",
       "      <td>0.0</td>\n",
       "      <td>0.0</td>\n",
       "      <td>0.0</td>\n",
       "      <td>0.0</td>\n",
       "      <td>0.0</td>\n",
       "      <td>0.0</td>\n",
       "      <td>0.0</td>\n",
       "      <td>0.0</td>\n",
       "      <td>0.0</td>\n",
       "      <td>...</td>\n",
       "      <td>0.0</td>\n",
       "      <td>0.0</td>\n",
       "      <td>0.0</td>\n",
       "      <td>0.0</td>\n",
       "      <td>0.0</td>\n",
       "      <td>0.0</td>\n",
       "      <td>1.0</td>\n",
       "      <td>0.0</td>\n",
       "      <td>0.0</td>\n",
       "      <td>0.0</td>\n",
       "    </tr>\n",
       "    <tr>\n",
       "      <th>4</th>\n",
       "      <td>0000bc3186b7b31d9b35d3fbbb250b9f8</td>\n",
       "      <td>1.0</td>\n",
       "      <td>0.0</td>\n",
       "      <td>0.0</td>\n",
       "      <td>0.0</td>\n",
       "      <td>0.0</td>\n",
       "      <td>0.0</td>\n",
       "      <td>0.0</td>\n",
       "      <td>0.0</td>\n",
       "      <td>0.0</td>\n",
       "      <td>...</td>\n",
       "      <td>0.0</td>\n",
       "      <td>1.0</td>\n",
       "      <td>0.0</td>\n",
       "      <td>0.0</td>\n",
       "      <td>0.0</td>\n",
       "      <td>0.0</td>\n",
       "      <td>0.0</td>\n",
       "      <td>0.0</td>\n",
       "      <td>0.0</td>\n",
       "      <td>0.0</td>\n",
       "    </tr>\n",
       "  </tbody>\n",
       "</table>\n",
       "<p>5 rows × 24 columns</p>\n",
       "</div>"
      ],
      "text/plain": [
       "                                 HID  active_Red  has_Green_id  has_Black_id  \\\n",
       "0  00003c7fb5e57ce673f1801f3679f5c25         0.0           0.0           0.0   \n",
       "1  00006b602533083e3bebfcbff08613931         1.0           0.0           0.0   \n",
       "2   0000736c3f76339196cb1cc759b8363b         1.0           0.0           0.0   \n",
       "3   00009bdcc5307b38efde8690b8bd658e         0.0           0.0           0.0   \n",
       "4  0000bc3186b7b31d9b35d3fbbb250b9f8         1.0           0.0           0.0   \n",
       "\n",
       "   has_Blue_id Blue_activity_count  Blue_gmv_total  Green_gvm_total  \\\n",
       "0          1.0                 2.0             0.0              0.0   \n",
       "1          0.0                 0.0             0.0              0.0   \n",
       "2          0.0                 0.0             0.0              0.0   \n",
       "3          0.0                 0.0             0.0              0.0   \n",
       "4          0.0                 0.0             0.0              0.0   \n",
       "\n",
       "  Green_gvm_order_count  Black_gvm_total  ... Blue_android  Red_apple  \\\n",
       "0                   0.0              0.0  ...          0.0        0.0   \n",
       "1                   0.0              0.0  ...          0.0        0.0   \n",
       "2                   0.0              0.0  ...          0.0        1.0   \n",
       "3                   0.0              0.0  ...          0.0        0.0   \n",
       "4                   0.0              0.0  ...          0.0        1.0   \n",
       "\n",
       "   Green_apple  Black_apple  Blue_apple  is_msk  Red_web  Green_web  \\\n",
       "0          0.0          0.0         0.0     0.0      0.0        0.0   \n",
       "1          0.0          0.0         0.0     0.0      1.0        0.0   \n",
       "2          0.0          1.0         0.0     0.0      0.0        0.0   \n",
       "3          0.0          0.0         0.0     0.0      1.0        0.0   \n",
       "4          0.0          0.0         0.0     0.0      0.0        0.0   \n",
       "\n",
       "   Black_web  Blue_web  \n",
       "0        0.0       0.0  \n",
       "1        0.0       0.0  \n",
       "2        0.0       0.0  \n",
       "3        0.0       0.0  \n",
       "4        0.0       0.0  \n",
       "\n",
       "[5 rows x 24 columns]"
      ]
     },
     "execution_count": 4,
     "metadata": {},
     "output_type": "execute_result"
    }
   ],
   "source": [
    "df.head()"
   ]
  },
  {
   "cell_type": "code",
   "execution_count": 5,
   "id": "addf492c",
   "metadata": {},
   "outputs": [
    {
     "name": "stdout",
     "output_type": "stream",
     "text": [
      "<class 'pandas.core.frame.DataFrame'>\n",
      "RangeIndex: 100000 entries, 0 to 99999\n",
      "Data columns (total 24 columns):\n",
      " #   Column                 Non-Null Count   Dtype  \n",
      "---  ------                 --------------   -----  \n",
      " 0   HID                    100000 non-null  object \n",
      " 1   active_Red             100000 non-null  float64\n",
      " 2   has_Green_id           100000 non-null  float64\n",
      " 3   has_Black_id           100000 non-null  float64\n",
      " 4   has_Blue_id            100000 non-null  float64\n",
      " 5   Blue_activity_count    100000 non-null  object \n",
      " 6   Blue_gmv_total         99999 non-null   float64\n",
      " 7   Green_gvm_total        100000 non-null  float64\n",
      " 8   Green_gvm_order_count  100000 non-null  object \n",
      " 9   Black_gvm_total        100000 non-null  float64\n",
      " 10  Black_gvm_order_count  100000 non-null  object \n",
      " 11  Red_android            100000 non-null  float64\n",
      " 12  Green_android          100000 non-null  float64\n",
      " 13  Black_android          100000 non-null  float64\n",
      " 14  Blue_android           100000 non-null  float64\n",
      " 15  Red_apple              100000 non-null  float64\n",
      " 16  Green_apple            100000 non-null  float64\n",
      " 17  Black_apple            100000 non-null  float64\n",
      " 18  Blue_apple             100000 non-null  float64\n",
      " 19  is_msk                 100000 non-null  float64\n",
      " 20  Red_web                100000 non-null  float64\n",
      " 21  Green_web              100000 non-null  float64\n",
      " 22  Black_web              100000 non-null  float64\n",
      " 23  Blue_web               100000 non-null  float64\n",
      "dtypes: float64(20), object(4)\n",
      "memory usage: 18.3+ MB\n"
     ]
    }
   ],
   "source": [
    "df.info()"
   ]
  },
  {
   "cell_type": "markdown",
   "id": "232b0809",
   "metadata": {},
   "source": [
    "### Выводы"
   ]
  },
  {
   "cell_type": "markdown",
   "id": "ca2e6c22",
   "metadata": {},
   "source": [
    "1. есть данные о 10.000 пользователях\n",
    "2. есть ошибки в форматах данных в столбцах: Blue_activity_count, Green_gvm_order_count, Black_gvm_order_count\n",
    "3. столбец Active_Red отличается по названию от аналогичных столбцов для других компаний (они назывются Has_company_id)\n",
    "4. обо всех четырех компаниях есть следующие показатели: наличие регистрации пользователя, наличие платформы для Android, для Apple, web-интерфейса\n",
    "5. Данные о GVM (суммарном и по кол-ву заказов) есть только для компаний Blue, Green, Black\n",
    "6. Данные о кол-ве активных действий пользователя есть только для компании Blue"
   ]
  },
  {
   "cell_type": "markdown",
   "id": "5c007a14",
   "metadata": {},
   "source": [
    "## Подготовка данных"
   ]
  },
  {
   "cell_type": "markdown",
   "id": "d379824d",
   "metadata": {},
   "source": [
    "### Форматы"
   ]
  },
  {
   "cell_type": "code",
   "execution_count": 6,
   "id": "cc407a87",
   "metadata": {},
   "outputs": [
    {
     "data": {
      "text/plain": [
       "array(['2.0', '0.0', '1.0', '17.0', '13.0', '5.0', '6.0', '26.0', '8.0',\n",
       "       '4.0', '27.0', '19.0', '12.0', '9.0', '3.0', '20.0', '10.0',\n",
       "       '23.0', '7.0', '16.0', '14.0', '15.0', '53.0',\n",
       "       datetime.datetime(2019, 5, 4, 0, 0), '32.0', '11.0', '18.0',\n",
       "       '24.0', '119.0', '49.0', '39.0', '21.0',\n",
       "       datetime.datetime(2019, 5, 7, 0, 0), '35.0', '72.0', '30.0',\n",
       "       '71.0', '28.0', '42.0', '34.0', '41.0', '22.0', '29.0', '36.0',\n",
       "       '90.0', '40.0', '43.0', datetime.datetime(2019, 5, 1, 0, 0),\n",
       "       '51.0', '44.0', '25.0', '31.0', '45.0', '67.0', '33.0', '101.0',\n",
       "       '74.0', '46.0', '111.0', '66.0', '38.0', '63.0', '100.0', '237.0',\n",
       "       '59.0', datetime.datetime(2019, 5, 3, 0, 0),\n",
       "       datetime.datetime(2019, 5, 6, 0, 0), '37.0', '47.0'], dtype=object)"
      ]
     },
     "execution_count": 6,
     "metadata": {},
     "output_type": "execute_result"
    }
   ],
   "source": [
    "df['Blue_activity_count'].unique()"
   ]
  },
  {
   "cell_type": "code",
   "execution_count": 7,
   "id": "3f083e51",
   "metadata": {},
   "outputs": [],
   "source": [
    "for i in df['Blue_activity_count']:\n",
    "    if type(i) == datetime:\n",
    "        df.drop(df[df.Blue_activity_count == i].index, inplace=True)\n",
    "        \n",
    "for i in df['Green_gvm_order_count']:\n",
    "    if type(i) == datetime:\n",
    "        df.drop(df[df.Green_gvm_order_count == i].index, inplace=True)\n",
    "        \n",
    "for i in df['Black_gvm_order_count']:\n",
    "    if type(i) == datetime:\n",
    "        df.drop(df[df.Black_gvm_order_count == i].index, inplace=True)"
   ]
  },
  {
   "cell_type": "code",
   "execution_count": 8,
   "id": "6701d167",
   "metadata": {},
   "outputs": [
    {
     "data": {
      "text/plain": [
       "(99987, 24)"
      ]
     },
     "execution_count": 8,
     "metadata": {},
     "output_type": "execute_result"
    }
   ],
   "source": [
    "df.shape"
   ]
  },
  {
   "cell_type": "code",
   "execution_count": 9,
   "id": "7083e2be",
   "metadata": {},
   "outputs": [],
   "source": [
    "df = df.astype({'Blue_activity_count': 'float64', 'Green_gvm_order_count': 'float64', 'Black_gvm_order_count': 'float64'})"
   ]
  },
  {
   "cell_type": "code",
   "execution_count": 10,
   "id": "18737744",
   "metadata": {},
   "outputs": [
    {
     "name": "stdout",
     "output_type": "stream",
     "text": [
      "<class 'pandas.core.frame.DataFrame'>\n",
      "Int64Index: 99987 entries, 0 to 99999\n",
      "Data columns (total 24 columns):\n",
      " #   Column                 Non-Null Count  Dtype  \n",
      "---  ------                 --------------  -----  \n",
      " 0   HID                    99987 non-null  object \n",
      " 1   active_Red             99987 non-null  float64\n",
      " 2   has_Green_id           99987 non-null  float64\n",
      " 3   has_Black_id           99987 non-null  float64\n",
      " 4   has_Blue_id            99987 non-null  float64\n",
      " 5   Blue_activity_count    99987 non-null  float64\n",
      " 6   Blue_gmv_total         99986 non-null  float64\n",
      " 7   Green_gvm_total        99987 non-null  float64\n",
      " 8   Green_gvm_order_count  99987 non-null  float64\n",
      " 9   Black_gvm_total        99987 non-null  float64\n",
      " 10  Black_gvm_order_count  99987 non-null  float64\n",
      " 11  Red_android            99987 non-null  float64\n",
      " 12  Green_android          99987 non-null  float64\n",
      " 13  Black_android          99987 non-null  float64\n",
      " 14  Blue_android           99987 non-null  float64\n",
      " 15  Red_apple              99987 non-null  float64\n",
      " 16  Green_apple            99987 non-null  float64\n",
      " 17  Black_apple            99987 non-null  float64\n",
      " 18  Blue_apple             99987 non-null  float64\n",
      " 19  is_msk                 99987 non-null  float64\n",
      " 20  Red_web                99987 non-null  float64\n",
      " 21  Green_web              99987 non-null  float64\n",
      " 22  Black_web              99987 non-null  float64\n",
      " 23  Blue_web               99987 non-null  float64\n",
      "dtypes: float64(23), object(1)\n",
      "memory usage: 19.1+ MB\n"
     ]
    }
   ],
   "source": [
    "df.info()"
   ]
  },
  {
   "cell_type": "markdown",
   "id": "3ba69576",
   "metadata": {},
   "source": [
    "### Проверка на дубликаты"
   ]
  },
  {
   "cell_type": "code",
   "execution_count": 11,
   "id": "f4f6ea6c",
   "metadata": {},
   "outputs": [
    {
     "data": {
      "text/plain": [
       "0"
      ]
     },
     "execution_count": 11,
     "metadata": {},
     "output_type": "execute_result"
    }
   ],
   "source": [
    "df.duplicated().sum()"
   ]
  },
  {
   "cell_type": "markdown",
   "id": "0bb8a2ec",
   "metadata": {},
   "source": [
    "### Преобразование таблицы"
   ]
  },
  {
   "cell_type": "code",
   "execution_count": 12,
   "id": "97d84d41",
   "metadata": {},
   "outputs": [],
   "source": [
    "df = df.rename(columns={'active_Red': 'has_Red_id'})"
   ]
  },
  {
   "cell_type": "code",
   "execution_count": 13,
   "id": "94e007b7",
   "metadata": {},
   "outputs": [],
   "source": [
    "df_red = df.query('has_Red_id == 1')\n",
    "df_blue = df.query('has_Blue_id == 1')\n",
    "df_black = df.query('has_Black_id == 1')\n",
    "df_green = df.query('has_Green_id == 1')"
   ]
  },
  {
   "cell_type": "code",
   "execution_count": 14,
   "id": "04fbd094",
   "metadata": {},
   "outputs": [
    {
     "name": "stdout",
     "output_type": "stream",
     "text": [
      "<class 'pandas.core.frame.DataFrame'>\n",
      "Int64Index: 55864 entries, 1 to 99997\n",
      "Data columns (total 10 columns):\n",
      " #   Column           Non-Null Count  Dtype  \n",
      "---  ------           --------------  -----  \n",
      " 0   HID              55864 non-null  object \n",
      " 1   activity_count   0 non-null      object \n",
      " 2   gmv_total        0 non-null      object \n",
      " 3   gvm_order_count  0 non-null      object \n",
      " 4   has_id           55864 non-null  float64\n",
      " 5   android          55864 non-null  float64\n",
      " 6   apple            55864 non-null  float64\n",
      " 7   is_msk           55864 non-null  float64\n",
      " 8   web              55864 non-null  float64\n",
      " 9   Company          55864 non-null  object \n",
      "dtypes: float64(5), object(5)\n",
      "memory usage: 4.7+ MB\n"
     ]
    }
   ],
   "source": [
    "for i in df_red.columns:\n",
    "    if i.find('Red') < 0 and i.find('msk') < 0 and i.find('HID') < 0:\n",
    "        df_red = df_red.drop([i], axis=1)\n",
    "df_red = df_red.rename(columns={'has_Red_id': 'has_id', 'Red_android': 'android', 'Red_apple': 'apple', 'Red_web': 'web'})\n",
    "df_red.insert(1, 'activity_count', None)\n",
    "df_red.insert(2, 'gmv_total', None)\n",
    "df_red.insert(3, 'gvm_order_count', None)\n",
    "df_red['Company'] = 'Red'\n",
    "df_red.info()"
   ]
  },
  {
   "cell_type": "code",
   "execution_count": 15,
   "id": "83a94c2d",
   "metadata": {},
   "outputs": [
    {
     "name": "stdout",
     "output_type": "stream",
     "text": [
      "<class 'pandas.core.frame.DataFrame'>\n",
      "Int64Index: 12746 entries, 0 to 99992\n",
      "Data columns (total 10 columns):\n",
      " #   Column           Non-Null Count  Dtype  \n",
      "---  ------           --------------  -----  \n",
      " 0   HID              12746 non-null  object \n",
      " 1   has_id           12746 non-null  float64\n",
      " 2   activity_count   12746 non-null  float64\n",
      " 3   gvm_order_count  0 non-null      object \n",
      " 4   gmv_total        12746 non-null  float64\n",
      " 5   android          12746 non-null  float64\n",
      " 6   apple            12746 non-null  float64\n",
      " 7   is_msk           12746 non-null  float64\n",
      " 8   web              12746 non-null  float64\n",
      " 9   Company          12746 non-null  object \n",
      "dtypes: float64(7), object(3)\n",
      "memory usage: 1.1+ MB\n"
     ]
    }
   ],
   "source": [
    "for i in df_blue.columns:\n",
    "    if i.find('Blue') < 0 and i.find('msk') < 0 and i.find('HID') < 0:\n",
    "        df_blue = df_blue.drop([i], axis=1)\n",
    "        \n",
    "df_blue = df_blue.rename(columns={'has_Blue_id': 'has_id', 'Blue_activity_count': 'activity_count', 'Blue_gmv_total': 'gmv_total', 'Blue_android': 'android', 'Blue_apple': 'apple', 'Blue_web': 'web'})\n",
    "df_blue.insert(3, 'gvm_order_count', None)\n",
    "df_blue['Company'] = 'Blue'\n",
    "\n",
    "df_blue.info()"
   ]
  },
  {
   "cell_type": "code",
   "execution_count": 16,
   "id": "d28dc573",
   "metadata": {},
   "outputs": [
    {
     "name": "stdout",
     "output_type": "stream",
     "text": [
      "<class 'pandas.core.frame.DataFrame'>\n",
      "Int64Index: 882 entries, 125 to 99969\n",
      "Data columns (total 10 columns):\n",
      " #   Column           Non-Null Count  Dtype  \n",
      "---  ------           --------------  -----  \n",
      " 0   HID              882 non-null    object \n",
      " 1   activity_count   0 non-null      object \n",
      " 2   has_id           882 non-null    float64\n",
      " 3   gmv_total        882 non-null    float64\n",
      " 4   gvm_order_count  882 non-null    float64\n",
      " 5   android          882 non-null    float64\n",
      " 6   apple            882 non-null    float64\n",
      " 7   is_msk           882 non-null    float64\n",
      " 8   web              882 non-null    float64\n",
      " 9   Company          882 non-null    object \n",
      "dtypes: float64(7), object(3)\n",
      "memory usage: 75.8+ KB\n"
     ]
    }
   ],
   "source": [
    "for i in df_green.columns:\n",
    "    if i.find('Green') < 0 and i.find('msk') < 0 and i.find('HID') < 0:\n",
    "        df_green = df_green.drop([i], axis=1)\n",
    "\n",
    "df_green = df_green.rename(columns={'has_Green_id': 'has_id', 'Green_gvm_total': 'gmv_total', 'Green_gvm_order_count': 'gvm_order_count', \n",
    "                                    'Green_android': 'android', 'Green_apple': 'apple', 'Green_web': 'web'})\n",
    "df_green.insert(1, 'activity_count', None)\n",
    "df_green['Company'] = 'Green'\n",
    "      \n",
    "df_green.info()"
   ]
  },
  {
   "cell_type": "code",
   "execution_count": 17,
   "id": "989ced98",
   "metadata": {},
   "outputs": [
    {
     "name": "stdout",
     "output_type": "stream",
     "text": [
      "<class 'pandas.core.frame.DataFrame'>\n",
      "Int64Index: 1074 entries, 323 to 99898\n",
      "Data columns (total 10 columns):\n",
      " #   Column           Non-Null Count  Dtype  \n",
      "---  ------           --------------  -----  \n",
      " 0   HID              1074 non-null   object \n",
      " 1   activity_count   0 non-null      object \n",
      " 2   has_id           1074 non-null   float64\n",
      " 3   gmv_total        1074 non-null   float64\n",
      " 4   gvm_order_count  1074 non-null   float64\n",
      " 5   android          1074 non-null   float64\n",
      " 6   apple            1074 non-null   float64\n",
      " 7   is_msk           1074 non-null   float64\n",
      " 8   web              1074 non-null   float64\n",
      " 9   Company          1074 non-null   object \n",
      "dtypes: float64(7), object(3)\n",
      "memory usage: 92.3+ KB\n"
     ]
    }
   ],
   "source": [
    "for i in df_black.columns:\n",
    "    if i.find('Black') < 0 and i.find('msk') < 0 and i.find('HID') < 0:\n",
    "        df_black = df_black.drop([i], axis=1)\n",
    "\n",
    "df_black = df_black.rename(columns={'has_Black_id': 'has_id', 'Black_gvm_total': 'gmv_total', 'Black_gvm_order_count': 'gvm_order_count', \n",
    "                                    'Black_android': 'android', 'Black_apple': 'apple', 'Black_web': 'web'})\n",
    "df_black.insert(1, 'activity_count', None)\n",
    "df_black['Company'] = 'Black'\n",
    "      \n",
    "df_black.info()"
   ]
  },
  {
   "cell_type": "code",
   "execution_count": 18,
   "id": "95b515a6",
   "metadata": {},
   "outputs": [
    {
     "data": {
      "text/html": [
       "<div>\n",
       "<style scoped>\n",
       "    .dataframe tbody tr th:only-of-type {\n",
       "        vertical-align: middle;\n",
       "    }\n",
       "\n",
       "    .dataframe tbody tr th {\n",
       "        vertical-align: top;\n",
       "    }\n",
       "\n",
       "    .dataframe thead th {\n",
       "        text-align: right;\n",
       "    }\n",
       "</style>\n",
       "<table border=\"1\" class=\"dataframe\">\n",
       "  <thead>\n",
       "    <tr style=\"text-align: right;\">\n",
       "      <th></th>\n",
       "      <th>HID</th>\n",
       "      <th>activity_count</th>\n",
       "      <th>gmv_total</th>\n",
       "      <th>gvm_order_count</th>\n",
       "      <th>has_id</th>\n",
       "      <th>android</th>\n",
       "      <th>apple</th>\n",
       "      <th>is_msk</th>\n",
       "      <th>web</th>\n",
       "      <th>Company</th>\n",
       "    </tr>\n",
       "  </thead>\n",
       "  <tbody>\n",
       "    <tr>\n",
       "      <th>1</th>\n",
       "      <td>00006b602533083e3bebfcbff08613931</td>\n",
       "      <td>None</td>\n",
       "      <td>None</td>\n",
       "      <td>None</td>\n",
       "      <td>1.0</td>\n",
       "      <td>0.0</td>\n",
       "      <td>0.0</td>\n",
       "      <td>0.0</td>\n",
       "      <td>1.0</td>\n",
       "      <td>Red</td>\n",
       "    </tr>\n",
       "    <tr>\n",
       "      <th>2</th>\n",
       "      <td>0000736c3f76339196cb1cc759b8363b</td>\n",
       "      <td>None</td>\n",
       "      <td>None</td>\n",
       "      <td>None</td>\n",
       "      <td>1.0</td>\n",
       "      <td>0.0</td>\n",
       "      <td>1.0</td>\n",
       "      <td>0.0</td>\n",
       "      <td>0.0</td>\n",
       "      <td>Red</td>\n",
       "    </tr>\n",
       "    <tr>\n",
       "      <th>4</th>\n",
       "      <td>0000bc3186b7b31d9b35d3fbbb250b9f8</td>\n",
       "      <td>None</td>\n",
       "      <td>None</td>\n",
       "      <td>None</td>\n",
       "      <td>1.0</td>\n",
       "      <td>0.0</td>\n",
       "      <td>1.0</td>\n",
       "      <td>0.0</td>\n",
       "      <td>0.0</td>\n",
       "      <td>Red</td>\n",
       "    </tr>\n",
       "    <tr>\n",
       "      <th>5</th>\n",
       "      <td>0000c3f7c3075b31690f03025176c601b</td>\n",
       "      <td>None</td>\n",
       "      <td>None</td>\n",
       "      <td>None</td>\n",
       "      <td>1.0</td>\n",
       "      <td>0.0</td>\n",
       "      <td>0.0</td>\n",
       "      <td>0.0</td>\n",
       "      <td>1.0</td>\n",
       "      <td>Red</td>\n",
       "    </tr>\n",
       "    <tr>\n",
       "      <th>6</th>\n",
       "      <td>0000c938bb375d76f9725e9c6b3f11bdf</td>\n",
       "      <td>None</td>\n",
       "      <td>None</td>\n",
       "      <td>None</td>\n",
       "      <td>1.0</td>\n",
       "      <td>0.0</td>\n",
       "      <td>0.0</td>\n",
       "      <td>0.0</td>\n",
       "      <td>1.0</td>\n",
       "      <td>Red</td>\n",
       "    </tr>\n",
       "  </tbody>\n",
       "</table>\n",
       "</div>"
      ],
      "text/plain": [
       "                                 HID activity_count gmv_total gvm_order_count  \\\n",
       "1  00006b602533083e3bebfcbff08613931           None      None            None   \n",
       "2   0000736c3f76339196cb1cc759b8363b           None      None            None   \n",
       "4  0000bc3186b7b31d9b35d3fbbb250b9f8           None      None            None   \n",
       "5  0000c3f7c3075b31690f03025176c601b           None      None            None   \n",
       "6  0000c938bb375d76f9725e9c6b3f11bdf           None      None            None   \n",
       "\n",
       "   has_id  android  apple  is_msk  web Company  \n",
       "1     1.0      0.0    0.0     0.0  1.0     Red  \n",
       "2     1.0      0.0    1.0     0.0  0.0     Red  \n",
       "4     1.0      0.0    1.0     0.0  0.0     Red  \n",
       "5     1.0      0.0    0.0     0.0  1.0     Red  \n",
       "6     1.0      0.0    0.0     0.0  1.0     Red  "
      ]
     },
     "execution_count": 18,
     "metadata": {},
     "output_type": "execute_result"
    }
   ],
   "source": [
    "total = pd.concat([df_red, df_blue, df_black, df_green])\n",
    "total.head()"
   ]
  },
  {
   "cell_type": "code",
   "execution_count": 19,
   "id": "fc9d5717",
   "metadata": {},
   "outputs": [
    {
     "name": "stdout",
     "output_type": "stream",
     "text": [
      "<class 'pandas.core.frame.DataFrame'>\n",
      "Int64Index: 70566 entries, 1 to 99969\n",
      "Data columns (total 10 columns):\n",
      " #   Column           Non-Null Count  Dtype  \n",
      "---  ------           --------------  -----  \n",
      " 0   HID              70566 non-null  object \n",
      " 1   activity_count   12746 non-null  object \n",
      " 2   gmv_total        14702 non-null  object \n",
      " 3   gvm_order_count  1956 non-null   object \n",
      " 4   has_id           70566 non-null  float64\n",
      " 5   android          70566 non-null  float64\n",
      " 6   apple            70566 non-null  float64\n",
      " 7   is_msk           70566 non-null  float64\n",
      " 8   web              70566 non-null  float64\n",
      " 9   Company          70566 non-null  object \n",
      "dtypes: float64(5), object(5)\n",
      "memory usage: 5.9+ MB\n"
     ]
    }
   ],
   "source": [
    "total.info()"
   ]
  },
  {
   "cell_type": "code",
   "execution_count": 20,
   "id": "a0ffe121",
   "metadata": {},
   "outputs": [
    {
     "data": {
      "text/plain": [
       "9037"
      ]
     },
     "execution_count": 20,
     "metadata": {},
     "output_type": "execute_result"
    }
   ],
   "source": [
    "total['HID'].duplicated().sum()"
   ]
  },
  {
   "cell_type": "code",
   "execution_count": 21,
   "id": "90d8e374",
   "metadata": {},
   "outputs": [
    {
     "data": {
      "text/plain": [
       "Company\n",
       "Black     1074\n",
       "Blue     12746\n",
       "Green      882\n",
       "Red      55864\n",
       "Name: HID, dtype: int64"
      ]
     },
     "execution_count": 21,
     "metadata": {},
     "output_type": "execute_result"
    }
   ],
   "source": [
    "total.groupby('Company')['HID'].nunique()"
   ]
  },
  {
   "cell_type": "markdown",
   "id": "f73e7032",
   "metadata": {},
   "source": [
    "### Выводы"
   ]
  },
  {
   "cell_type": "markdown",
   "id": "bbc351e1",
   "metadata": {},
   "source": [
    "- неравномерное количество пользователей разных компаний: больше половины из 100.000 пользователей - зарегистрированы в компании Red (55k+), более 12 тысяч - Blue, 1074 - Black, 882 - Green\n",
    "- более 9 тысяч пользователей зарегистрированы более, чем в 1 компании\n",
    "- около 30 тысяч пользователей не зарегистрированы нигде"
   ]
  },
  {
   "cell_type": "markdown",
   "id": "f63e8158",
   "metadata": {},
   "source": [
    "## Анализ данных"
   ]
  },
  {
   "cell_type": "markdown",
   "id": "99635d62",
   "metadata": {},
   "source": [
    "### Общие наблюдения"
   ]
  },
  {
   "cell_type": "code",
   "execution_count": 22,
   "id": "ae4341e2",
   "metadata": {},
   "outputs": [
    {
     "data": {
      "text/plain": [
       "38354"
      ]
     },
     "execution_count": 22,
     "metadata": {},
     "output_type": "execute_result"
    }
   ],
   "source": [
    "# не зарегистрированы нигде\n",
    "len(df.query('has_Red_id == 0 and has_Blue_id == 0 and has_Black_id == 0 and has_Green_id == 0'))"
   ]
  },
  {
   "cell_type": "code",
   "execution_count": 23,
   "id": "0436503b",
   "metadata": {},
   "outputs": [
    {
     "data": {
      "text/plain": [
       "46951"
      ]
     },
     "execution_count": 23,
     "metadata": {},
     "output_type": "execute_result"
    }
   ],
   "source": [
    "# только Red\n",
    "len(df.query('has_Red_id == 1 and has_Blue_id == 0 and has_Black_id == 0 and has_Green_id == 0'))"
   ]
  },
  {
   "cell_type": "code",
   "execution_count": 24,
   "id": "0538c6bc",
   "metadata": {},
   "outputs": [
    {
     "data": {
      "text/plain": [
       "4819"
      ]
     },
     "execution_count": 24,
     "metadata": {},
     "output_type": "execute_result"
    }
   ],
   "source": [
    "# только Blue\n",
    "len(df.query('has_Red_id == 0 and has_Blue_id == 1 and has_Black_id == 0 and has_Green_id == 0'))"
   ]
  },
  {
   "cell_type": "code",
   "execution_count": 25,
   "id": "57f587bf",
   "metadata": {},
   "outputs": [
    {
     "data": {
      "text/plain": [
       "331"
      ]
     },
     "execution_count": 25,
     "metadata": {},
     "output_type": "execute_result"
    }
   ],
   "source": [
    "# только Black\n",
    "len(df.query('has_Red_id == 0 and has_Blue_id == 0 and has_Black_id == 1 and has_Green_id == 0'))"
   ]
  },
  {
   "cell_type": "code",
   "execution_count": 26,
   "id": "a37b8499",
   "metadata": {},
   "outputs": [
    {
     "data": {
      "text/plain": [
       "390"
      ]
     },
     "execution_count": 26,
     "metadata": {},
     "output_type": "execute_result"
    }
   ],
   "source": [
    "# только Green\n",
    "len(df.query('has_Red_id == 0 and has_Blue_id == 0 and has_Black_id == 0 and has_Green_id == 1'))"
   ]
  },
  {
   "cell_type": "code",
   "execution_count": 57,
   "id": "b6d2beb1",
   "metadata": {},
   "outputs": [
    {
     "data": {
      "image/png": "[encoded data removed]",
      "text/plain": [
       "<Figure size 720x504 with 1 Axes>"
      ]
     },
     "metadata": {},
     "output_type": "display_data"
    }
   ],
   "source": [
    "data = [46951, 4819, 331, 390, 38354]\n",
    "labels = ['Red', 'Blue', 'Black', 'Green', 'No company']\n",
    "\n",
    "colors = sns.color_palette('pastel')[0:5]\n",
    "plt.figure(figsize=(10, 7))\n",
    "plt.title('Распределение уникальных пользователей по компаниям')\n",
    "plt.pie(data, labels = labels, colors = colors, autopct='%.0f%%')\n",
    "plt.show()"
   ]
  },
  {
   "cell_type": "markdown",
   "id": "defea5e7",
   "metadata": {},
   "source": [
    "### Распределение пользователей по наличию приложений на разных платформах"
   ]
  },
  {
   "cell_type": "code",
   "execution_count": 27,
   "id": "ddc5f31a",
   "metadata": {},
   "outputs": [],
   "source": [
    "black = 1074\n",
    "blue = 12746\n",
    "green = 882\n",
    "red = 55864"
   ]
  },
  {
   "cell_type": "code",
   "execution_count": 28,
   "id": "d695374a",
   "metadata": {},
   "outputs": [
    {
     "data": {
      "text/html": [
       "<div>\n",
       "<style scoped>\n",
       "    .dataframe tbody tr th:only-of-type {\n",
       "        vertical-align: middle;\n",
       "    }\n",
       "\n",
       "    .dataframe tbody tr th {\n",
       "        vertical-align: top;\n",
       "    }\n",
       "\n",
       "    .dataframe thead th {\n",
       "        text-align: right;\n",
       "    }\n",
       "</style>\n",
       "<table border=\"1\" class=\"dataframe\">\n",
       "  <thead>\n",
       "    <tr style=\"text-align: right;\">\n",
       "      <th></th>\n",
       "      <th>android</th>\n",
       "      <th>apple</th>\n",
       "      <th>is_msk</th>\n",
       "      <th>web</th>\n",
       "    </tr>\n",
       "    <tr>\n",
       "      <th>Company</th>\n",
       "      <th></th>\n",
       "      <th></th>\n",
       "      <th></th>\n",
       "      <th></th>\n",
       "    </tr>\n",
       "  </thead>\n",
       "  <tbody>\n",
       "    <tr>\n",
       "      <th>Black</th>\n",
       "      <td>232.0</td>\n",
       "      <td>331.0</td>\n",
       "      <td>388.0</td>\n",
       "      <td>172.0</td>\n",
       "    </tr>\n",
       "    <tr>\n",
       "      <th>Blue</th>\n",
       "      <td>2867.0</td>\n",
       "      <td>1674.0</td>\n",
       "      <td>2031.0</td>\n",
       "      <td>2806.0</td>\n",
       "    </tr>\n",
       "    <tr>\n",
       "      <th>Green</th>\n",
       "      <td>179.0</td>\n",
       "      <td>229.0</td>\n",
       "      <td>675.0</td>\n",
       "      <td>26.0</td>\n",
       "    </tr>\n",
       "    <tr>\n",
       "      <th>Red</th>\n",
       "      <td>25104.0</td>\n",
       "      <td>9106.0</td>\n",
       "      <td>6670.0</td>\n",
       "      <td>45538.0</td>\n",
       "    </tr>\n",
       "  </tbody>\n",
       "</table>\n",
       "</div>"
      ],
      "text/plain": [
       "         android   apple  is_msk      web\n",
       "Company                                  \n",
       "Black      232.0   331.0   388.0    172.0\n",
       "Blue      2867.0  1674.0  2031.0   2806.0\n",
       "Green      179.0   229.0   675.0     26.0\n",
       "Red      25104.0  9106.0  6670.0  45538.0"
      ]
     },
     "execution_count": 28,
     "metadata": {},
     "output_type": "execute_result"
    }
   ],
   "source": [
    "gadjets_pivot = pd.pivot_table(data = total, index='Company', values=['android', 'apple', 'web', 'is_msk'], \n",
    "                               aggfunc='sum')\n",
    "gadjets_pivot"
   ]
  },
  {
   "cell_type": "code",
   "execution_count": 29,
   "id": "1187d79c",
   "metadata": {},
   "outputs": [
    {
     "data": {
      "text/html": [
       "<div>\n",
       "<style scoped>\n",
       "    .dataframe tbody tr th:only-of-type {\n",
       "        vertical-align: middle;\n",
       "    }\n",
       "\n",
       "    .dataframe tbody tr th {\n",
       "        vertical-align: top;\n",
       "    }\n",
       "\n",
       "    .dataframe thead th {\n",
       "        text-align: right;\n",
       "    }\n",
       "</style>\n",
       "<table border=\"1\" class=\"dataframe\">\n",
       "  <thead>\n",
       "    <tr style=\"text-align: right;\">\n",
       "      <th></th>\n",
       "      <th>Company</th>\n",
       "      <th>android</th>\n",
       "      <th>apple</th>\n",
       "      <th>is_msk</th>\n",
       "      <th>web</th>\n",
       "    </tr>\n",
       "  </thead>\n",
       "  <tbody>\n",
       "    <tr>\n",
       "      <th>0</th>\n",
       "      <td>Black</td>\n",
       "      <td>232.0</td>\n",
       "      <td>331.0</td>\n",
       "      <td>388.0</td>\n",
       "      <td>172.0</td>\n",
       "    </tr>\n",
       "    <tr>\n",
       "      <th>1</th>\n",
       "      <td>Blue</td>\n",
       "      <td>2867.0</td>\n",
       "      <td>1674.0</td>\n",
       "      <td>2031.0</td>\n",
       "      <td>2806.0</td>\n",
       "    </tr>\n",
       "    <tr>\n",
       "      <th>2</th>\n",
       "      <td>Green</td>\n",
       "      <td>179.0</td>\n",
       "      <td>229.0</td>\n",
       "      <td>675.0</td>\n",
       "      <td>26.0</td>\n",
       "    </tr>\n",
       "    <tr>\n",
       "      <th>3</th>\n",
       "      <td>Red</td>\n",
       "      <td>25104.0</td>\n",
       "      <td>9106.0</td>\n",
       "      <td>6670.0</td>\n",
       "      <td>45538.0</td>\n",
       "    </tr>\n",
       "  </tbody>\n",
       "</table>\n",
       "</div>"
      ],
      "text/plain": [
       "  Company  android   apple  is_msk      web\n",
       "0   Black    232.0   331.0   388.0    172.0\n",
       "1    Blue   2867.0  1674.0  2031.0   2806.0\n",
       "2   Green    179.0   229.0   675.0     26.0\n",
       "3     Red  25104.0  9106.0  6670.0  45538.0"
      ]
     },
     "execution_count": 29,
     "metadata": {},
     "output_type": "execute_result"
    }
   ],
   "source": [
    "gadjets_pivot = gadjets_pivot.reset_index()\n",
    "#gadjets_pivot.columns = ['company', 'android', 'apple', 'is_msk', 'web']\n",
    "gadjets_pivot"
   ]
  },
  {
   "cell_type": "code",
   "execution_count": 30,
   "id": "83cae71d",
   "metadata": {},
   "outputs": [
    {
     "data": {
      "text/html": [
       "<div>\n",
       "<style scoped>\n",
       "    .dataframe tbody tr th:only-of-type {\n",
       "        vertical-align: middle;\n",
       "    }\n",
       "\n",
       "    .dataframe tbody tr th {\n",
       "        vertical-align: top;\n",
       "    }\n",
       "\n",
       "    .dataframe thead th {\n",
       "        text-align: right;\n",
       "    }\n",
       "</style>\n",
       "<table border=\"1\" class=\"dataframe\">\n",
       "  <thead>\n",
       "    <tr style=\"text-align: right;\">\n",
       "      <th>Company</th>\n",
       "      <th>Black</th>\n",
       "      <th>Blue</th>\n",
       "      <th>Green</th>\n",
       "      <th>Red</th>\n",
       "    </tr>\n",
       "  </thead>\n",
       "  <tbody>\n",
       "    <tr>\n",
       "      <th>android</th>\n",
       "      <td>232.0</td>\n",
       "      <td>2867.0</td>\n",
       "      <td>179.0</td>\n",
       "      <td>25104.0</td>\n",
       "    </tr>\n",
       "    <tr>\n",
       "      <th>apple</th>\n",
       "      <td>331.0</td>\n",
       "      <td>1674.0</td>\n",
       "      <td>229.0</td>\n",
       "      <td>9106.0</td>\n",
       "    </tr>\n",
       "    <tr>\n",
       "      <th>is_msk</th>\n",
       "      <td>388.0</td>\n",
       "      <td>2031.0</td>\n",
       "      <td>675.0</td>\n",
       "      <td>6670.0</td>\n",
       "    </tr>\n",
       "    <tr>\n",
       "      <th>web</th>\n",
       "      <td>172.0</td>\n",
       "      <td>2806.0</td>\n",
       "      <td>26.0</td>\n",
       "      <td>45538.0</td>\n",
       "    </tr>\n",
       "  </tbody>\n",
       "</table>\n",
       "</div>"
      ],
      "text/plain": [
       "Company  Black    Blue  Green      Red\n",
       "android  232.0  2867.0  179.0  25104.0\n",
       "apple    331.0  1674.0  229.0   9106.0\n",
       "is_msk   388.0  2031.0  675.0   6670.0\n",
       "web      172.0  2806.0   26.0  45538.0"
      ]
     },
     "execution_count": 30,
     "metadata": {},
     "output_type": "execute_result"
    }
   ],
   "source": [
    "platforms = gadjets_pivot.T\n",
    "platforms.columns = platforms.iloc[0]\n",
    "platforms.drop('Company', axis=0, inplace=True)\n",
    "platforms"
   ]
  },
  {
   "cell_type": "code",
   "execution_count": 31,
   "id": "6c2fd028",
   "metadata": {},
   "outputs": [],
   "source": [
    "platforms['Black'] = platforms['Black'] / black * 100\n",
    "platforms['Blue'] = platforms['Blue'] / blue * 100\n",
    "platforms['Green'] = platforms['Green'] / green * 100\n",
    "platforms['Red'] = platforms['Red'] / red * 100"
   ]
  },
  {
   "cell_type": "code",
   "execution_count": 32,
   "id": "d1b336f3",
   "metadata": {},
   "outputs": [
    {
     "data": {
      "text/html": [
       "<div>\n",
       "<style scoped>\n",
       "    .dataframe tbody tr th:only-of-type {\n",
       "        vertical-align: middle;\n",
       "    }\n",
       "\n",
       "    .dataframe tbody tr th {\n",
       "        vertical-align: top;\n",
       "    }\n",
       "\n",
       "    .dataframe thead th {\n",
       "        text-align: right;\n",
       "    }\n",
       "</style>\n",
       "<table border=\"1\" class=\"dataframe\">\n",
       "  <thead>\n",
       "    <tr style=\"text-align: right;\">\n",
       "      <th>Company</th>\n",
       "      <th>Black</th>\n",
       "      <th>Blue</th>\n",
       "      <th>Green</th>\n",
       "      <th>Red</th>\n",
       "    </tr>\n",
       "  </thead>\n",
       "  <tbody>\n",
       "    <tr>\n",
       "      <th>android</th>\n",
       "      <td>21.60149</td>\n",
       "      <td>22.493331</td>\n",
       "      <td>20.294785</td>\n",
       "      <td>44.937706</td>\n",
       "    </tr>\n",
       "    <tr>\n",
       "      <th>apple</th>\n",
       "      <td>30.819367</td>\n",
       "      <td>13.133532</td>\n",
       "      <td>25.963719</td>\n",
       "      <td>16.300301</td>\n",
       "    </tr>\n",
       "    <tr>\n",
       "      <th>is_msk</th>\n",
       "      <td>36.126629</td>\n",
       "      <td>15.934411</td>\n",
       "      <td>76.530612</td>\n",
       "      <td>11.939711</td>\n",
       "    </tr>\n",
       "    <tr>\n",
       "      <th>web</th>\n",
       "      <td>16.014898</td>\n",
       "      <td>22.01475</td>\n",
       "      <td>2.947846</td>\n",
       "      <td>81.515824</td>\n",
       "    </tr>\n",
       "  </tbody>\n",
       "</table>\n",
       "</div>"
      ],
      "text/plain": [
       "Company      Black       Blue      Green        Red\n",
       "android   21.60149  22.493331  20.294785  44.937706\n",
       "apple    30.819367  13.133532  25.963719  16.300301\n",
       "is_msk   36.126629  15.934411  76.530612  11.939711\n",
       "web      16.014898   22.01475   2.947846  81.515824"
      ]
     },
     "execution_count": 32,
     "metadata": {},
     "output_type": "execute_result"
    }
   ],
   "source": [
    "platforms"
   ]
  },
  {
   "cell_type": "code",
   "execution_count": 33,
   "id": "9c69472a",
   "metadata": {},
   "outputs": [
    {
     "data": {
      "text/html": [
       "<div>\n",
       "<style scoped>\n",
       "    .dataframe tbody tr th:only-of-type {\n",
       "        vertical-align: middle;\n",
       "    }\n",
       "\n",
       "    .dataframe tbody tr th {\n",
       "        vertical-align: top;\n",
       "    }\n",
       "\n",
       "    .dataframe thead th {\n",
       "        text-align: right;\n",
       "    }\n",
       "</style>\n",
       "<table border=\"1\" class=\"dataframe\">\n",
       "  <thead>\n",
       "    <tr style=\"text-align: right;\">\n",
       "      <th>Company</th>\n",
       "      <th>Black</th>\n",
       "      <th>Blue</th>\n",
       "      <th>Green</th>\n",
       "      <th>Red</th>\n",
       "    </tr>\n",
       "  </thead>\n",
       "  <tbody>\n",
       "    <tr>\n",
       "      <th>android</th>\n",
       "      <td>21.60149</td>\n",
       "      <td>22.493331</td>\n",
       "      <td>20.294785</td>\n",
       "      <td>44.937706</td>\n",
       "    </tr>\n",
       "    <tr>\n",
       "      <th>apple</th>\n",
       "      <td>30.819367</td>\n",
       "      <td>13.133532</td>\n",
       "      <td>25.963719</td>\n",
       "      <td>16.300301</td>\n",
       "    </tr>\n",
       "    <tr>\n",
       "      <th>web</th>\n",
       "      <td>16.014898</td>\n",
       "      <td>22.01475</td>\n",
       "      <td>2.947846</td>\n",
       "      <td>81.515824</td>\n",
       "    </tr>\n",
       "  </tbody>\n",
       "</table>\n",
       "</div>"
      ],
      "text/plain": [
       "Company      Black       Blue      Green        Red\n",
       "android   21.60149  22.493331  20.294785  44.937706\n",
       "apple    30.819367  13.133532  25.963719  16.300301\n",
       "web      16.014898   22.01475   2.947846  81.515824"
      ]
     },
     "execution_count": 33,
     "metadata": {},
     "output_type": "execute_result"
    }
   ],
   "source": [
    "plaforms_nomsk = platforms.drop('is_msk', axis=0)\n",
    "plaforms_nomsk"
   ]
  },
  {
   "cell_type": "code",
   "execution_count": 34,
   "id": "2e383c29",
   "metadata": {},
   "outputs": [],
   "source": [
    "plta = plaforms_nomsk.unstack(level=0)\n",
    "plt_df = pd.DataFrame(plta)"
   ]
  },
  {
   "cell_type": "code",
   "execution_count": 35,
   "id": "3dbc6d6f",
   "metadata": {},
   "outputs": [
    {
     "data": {
      "text/html": [
       "<div>\n",
       "<style scoped>\n",
       "    .dataframe tbody tr th:only-of-type {\n",
       "        vertical-align: middle;\n",
       "    }\n",
       "\n",
       "    .dataframe tbody tr th {\n",
       "        vertical-align: top;\n",
       "    }\n",
       "\n",
       "    .dataframe thead th {\n",
       "        text-align: right;\n",
       "    }\n",
       "</style>\n",
       "<table border=\"1\" class=\"dataframe\">\n",
       "  <thead>\n",
       "    <tr style=\"text-align: right;\">\n",
       "      <th></th>\n",
       "      <th>Company</th>\n",
       "      <th>level_1</th>\n",
       "      <th>0</th>\n",
       "    </tr>\n",
       "  </thead>\n",
       "  <tbody>\n",
       "    <tr>\n",
       "      <th>0</th>\n",
       "      <td>Black</td>\n",
       "      <td>android</td>\n",
       "      <td>21.60149</td>\n",
       "    </tr>\n",
       "    <tr>\n",
       "      <th>1</th>\n",
       "      <td>Black</td>\n",
       "      <td>apple</td>\n",
       "      <td>30.819367</td>\n",
       "    </tr>\n",
       "    <tr>\n",
       "      <th>2</th>\n",
       "      <td>Black</td>\n",
       "      <td>web</td>\n",
       "      <td>16.014898</td>\n",
       "    </tr>\n",
       "    <tr>\n",
       "      <th>3</th>\n",
       "      <td>Blue</td>\n",
       "      <td>android</td>\n",
       "      <td>22.493331</td>\n",
       "    </tr>\n",
       "    <tr>\n",
       "      <th>4</th>\n",
       "      <td>Blue</td>\n",
       "      <td>apple</td>\n",
       "      <td>13.133532</td>\n",
       "    </tr>\n",
       "    <tr>\n",
       "      <th>5</th>\n",
       "      <td>Blue</td>\n",
       "      <td>web</td>\n",
       "      <td>22.01475</td>\n",
       "    </tr>\n",
       "    <tr>\n",
       "      <th>6</th>\n",
       "      <td>Green</td>\n",
       "      <td>android</td>\n",
       "      <td>20.294785</td>\n",
       "    </tr>\n",
       "    <tr>\n",
       "      <th>7</th>\n",
       "      <td>Green</td>\n",
       "      <td>apple</td>\n",
       "      <td>25.963719</td>\n",
       "    </tr>\n",
       "    <tr>\n",
       "      <th>8</th>\n",
       "      <td>Green</td>\n",
       "      <td>web</td>\n",
       "      <td>2.947846</td>\n",
       "    </tr>\n",
       "    <tr>\n",
       "      <th>9</th>\n",
       "      <td>Red</td>\n",
       "      <td>android</td>\n",
       "      <td>44.937706</td>\n",
       "    </tr>\n",
       "    <tr>\n",
       "      <th>10</th>\n",
       "      <td>Red</td>\n",
       "      <td>apple</td>\n",
       "      <td>16.300301</td>\n",
       "    </tr>\n",
       "    <tr>\n",
       "      <th>11</th>\n",
       "      <td>Red</td>\n",
       "      <td>web</td>\n",
       "      <td>81.515824</td>\n",
       "    </tr>\n",
       "  </tbody>\n",
       "</table>\n",
       "</div>"
      ],
      "text/plain": [
       "   Company  level_1          0\n",
       "0    Black  android   21.60149\n",
       "1    Black    apple  30.819367\n",
       "2    Black      web  16.014898\n",
       "3     Blue  android  22.493331\n",
       "4     Blue    apple  13.133532\n",
       "5     Blue      web   22.01475\n",
       "6    Green  android  20.294785\n",
       "7    Green    apple  25.963719\n",
       "8    Green      web   2.947846\n",
       "9      Red  android  44.937706\n",
       "10     Red    apple  16.300301\n",
       "11     Red      web  81.515824"
      ]
     },
     "execution_count": 35,
     "metadata": {},
     "output_type": "execute_result"
    }
   ],
   "source": [
    "plt_df = plt_df.reset_index()\n",
    "plt_df"
   ]
  },
  {
   "cell_type": "code",
   "execution_count": 36,
   "id": "40ca944c",
   "metadata": {},
   "outputs": [],
   "source": [
    "plt_df = plt_df.rename(columns={'level_1': 'platform', 0: '%'})"
   ]
  },
  {
   "cell_type": "code",
   "execution_count": 37,
   "id": "d2ab0e27",
   "metadata": {},
   "outputs": [
    {
     "data": {
      "text/plain": [
       "<AxesSubplot:xlabel='Company', ylabel='%'>"
      ]
     },
     "execution_count": 37,
     "metadata": {},
     "output_type": "execute_result"
    },
    {
     "data": {
      "image/png": "[encoded data removed]",
      "text/plain": [
       "<Figure size 720x360 with 1 Axes>"
      ]
     },
     "metadata": {
      "needs_background": "light"
     },
     "output_type": "display_data"
    }
   ],
   "source": [
    "plt.figure(figsize=(10, 5))\n",
    "sns.barplot(data=plt_df, x=\"Company\", y=\"%\", hue=\"platform\")"
   ]
  },
  {
   "cell_type": "markdown",
   "id": "882d9bc4",
   "metadata": {},
   "source": [
    "Для компаний **Black** и **Green** характерно наличие у наибольшего количества пользователей приложения на платформе Apple (30%, 26%, соответственно). Однако если разница в доле пользователей компании **Black**, использующих приложения для Android и Web не слишком серьезная, то в компании **Green** критически мало пользователей используют ПК (всего лишь около 3%). Пользователи компании **Blue** практически в равной степени используют версии для Android и ПК (по 22% пользователей). \n",
    "\n",
    "Для компании **Red** стоит отметить, что более 80% пользователей имеют приложения на своих ПК, что является наибольшим значением для среди всех компаний. Более 40% пользователей пользуются приложением на Android, 16% - на платформе Apple. "
   ]
  },
  {
   "cell_type": "markdown",
   "id": "386ad91a",
   "metadata": {},
   "source": [
    "### Территориальное расположение пользователей в Москве"
   ]
  },
  {
   "cell_type": "code",
   "execution_count": 38,
   "id": "de1e8a3c",
   "metadata": {},
   "outputs": [
    {
     "data": {
      "text/html": [
       "<div>\n",
       "<style scoped>\n",
       "    .dataframe tbody tr th:only-of-type {\n",
       "        vertical-align: middle;\n",
       "    }\n",
       "\n",
       "    .dataframe tbody tr th {\n",
       "        vertical-align: top;\n",
       "    }\n",
       "\n",
       "    .dataframe thead th {\n",
       "        text-align: right;\n",
       "    }\n",
       "</style>\n",
       "<table border=\"1\" class=\"dataframe\">\n",
       "  <thead>\n",
       "    <tr style=\"text-align: right;\">\n",
       "      <th>Company</th>\n",
       "      <th>Black</th>\n",
       "      <th>Blue</th>\n",
       "      <th>Green</th>\n",
       "      <th>Red</th>\n",
       "    </tr>\n",
       "  </thead>\n",
       "  <tbody>\n",
       "    <tr>\n",
       "      <th>is_msk</th>\n",
       "      <td>36.126629</td>\n",
       "      <td>15.934411</td>\n",
       "      <td>76.530612</td>\n",
       "      <td>11.939711</td>\n",
       "    </tr>\n",
       "  </tbody>\n",
       "</table>\n",
       "</div>"
      ],
      "text/plain": [
       "Company      Black       Blue      Green        Red\n",
       "is_msk   36.126629  15.934411  76.530612  11.939711"
      ]
     },
     "execution_count": 38,
     "metadata": {},
     "output_type": "execute_result"
    }
   ],
   "source": [
    "mos = platforms.drop(['android', 'apple', 'web'], axis = 0)\n",
    "mos"
   ]
  },
  {
   "cell_type": "markdown",
   "id": "7542c693",
   "metadata": {},
   "source": [
    "Наибольшая доля пользователей из Москвы - в компании Green (более 76%). В компаниях Red и Blue процент пользователей из Москвы схож: 12% и 16%, соответственно. Значительно меньше зарегистрированных в Москве пользователей у компании Black, всего 3%. "
   ]
  },
  {
   "cell_type": "markdown",
   "id": "30c550d6",
   "metadata": {},
   "source": [
    "### GMV"
   ]
  },
  {
   "cell_type": "code",
   "execution_count": 39,
   "id": "790f2115",
   "metadata": {},
   "outputs": [],
   "source": [
    "gmv_total = total.query('gmv_total >=0')"
   ]
  },
  {
   "cell_type": "code",
   "execution_count": 40,
   "id": "140aa9bf",
   "metadata": {},
   "outputs": [],
   "source": [
    "gmv_zero = total.query('gmv_total ==0')"
   ]
  },
  {
   "cell_type": "code",
   "execution_count": 41,
   "id": "05714e4a",
   "metadata": {},
   "outputs": [
    {
     "name": "stderr",
     "output_type": "stream",
     "text": [
      "<ipython-input-41-cb225fd3d880>:1: SettingWithCopyWarning: \n",
      "A value is trying to be set on a copy of a slice from a DataFrame.\n",
      "Try using .loc[row_indexer,col_indexer] = value instead\n",
      "\n",
      "See the caveats in the documentation: https://pandas.pydata.org/pandas-docs/stable/user_guide/indexing.html#returning-a-view-versus-a-copy\n",
      "  gmv_total['gmv_total'] = gmv_total['gmv_total'].astype('float64')\n"
     ]
    }
   ],
   "source": [
    "gmv_total['gmv_total'] = gmv_total['gmv_total'].astype('float64')"
   ]
  },
  {
   "cell_type": "code",
   "execution_count": 42,
   "id": "c7064baf",
   "metadata": {},
   "outputs": [],
   "source": [
    "gmv_analysis = pd.DataFrame(gmv_total.groupby('Company')['HID'].nunique())\n",
    "gmv_analysis['Mean'] = gmv_total.groupby('Company')['gmv_total'].mean()\n",
    "gmv_analysis['Sum'] = gmv_total.groupby('Company')['gmv_total'].sum()\n",
    "gmv_analysis['0'] = gmv_zero.groupby('Company')['HID'].nunique()"
   ]
  },
  {
   "cell_type": "code",
   "execution_count": 43,
   "id": "392ad4c0",
   "metadata": {},
   "outputs": [
    {
     "data": {
      "text/html": [
       "<div>\n",
       "<style scoped>\n",
       "    .dataframe tbody tr th:only-of-type {\n",
       "        vertical-align: middle;\n",
       "    }\n",
       "\n",
       "    .dataframe tbody tr th {\n",
       "        vertical-align: top;\n",
       "    }\n",
       "\n",
       "    .dataframe thead th {\n",
       "        text-align: right;\n",
       "    }\n",
       "</style>\n",
       "<table border=\"1\" class=\"dataframe\">\n",
       "  <thead>\n",
       "    <tr style=\"text-align: right;\">\n",
       "      <th></th>\n",
       "      <th>HID</th>\n",
       "      <th>Mean</th>\n",
       "      <th>Sum</th>\n",
       "      <th>0</th>\n",
       "    </tr>\n",
       "    <tr>\n",
       "      <th>Company</th>\n",
       "      <th></th>\n",
       "      <th></th>\n",
       "      <th></th>\n",
       "      <th></th>\n",
       "    </tr>\n",
       "  </thead>\n",
       "  <tbody>\n",
       "    <tr>\n",
       "      <th>Black</th>\n",
       "      <td>1074</td>\n",
       "      <td>8774.698324</td>\n",
       "      <td>9424026.0</td>\n",
       "      <td>NaN</td>\n",
       "    </tr>\n",
       "    <tr>\n",
       "      <th>Blue</th>\n",
       "      <td>12746</td>\n",
       "      <td>18.335478</td>\n",
       "      <td>233704.0</td>\n",
       "      <td>12341.0</td>\n",
       "    </tr>\n",
       "    <tr>\n",
       "      <th>Green</th>\n",
       "      <td>882</td>\n",
       "      <td>6782.206349</td>\n",
       "      <td>5981906.0</td>\n",
       "      <td>NaN</td>\n",
       "    </tr>\n",
       "  </tbody>\n",
       "</table>\n",
       "</div>"
      ],
      "text/plain": [
       "           HID         Mean        Sum        0\n",
       "Company                                        \n",
       "Black     1074  8774.698324  9424026.0      NaN\n",
       "Blue     12746    18.335478   233704.0  12341.0\n",
       "Green      882  6782.206349  5981906.0      NaN"
      ]
     },
     "execution_count": 43,
     "metadata": {},
     "output_type": "execute_result"
    }
   ],
   "source": [
    "gmv_analysis"
   ]
  },
  {
   "cell_type": "code",
   "execution_count": 50,
   "id": "092ed309",
   "metadata": {},
   "outputs": [
    {
     "data": {
      "text/html": [
       "<div>\n",
       "<style scoped>\n",
       "    .dataframe tbody tr th:only-of-type {\n",
       "        vertical-align: middle;\n",
       "    }\n",
       "\n",
       "    .dataframe tbody tr th {\n",
       "        vertical-align: top;\n",
       "    }\n",
       "\n",
       "    .dataframe thead th {\n",
       "        text-align: right;\n",
       "    }\n",
       "</style>\n",
       "<table border=\"1\" class=\"dataframe\">\n",
       "  <thead>\n",
       "    <tr style=\"text-align: right;\">\n",
       "      <th></th>\n",
       "      <th>Company</th>\n",
       "      <th>HID</th>\n",
       "      <th>Mean</th>\n",
       "      <th>Sum</th>\n",
       "      <th>0</th>\n",
       "    </tr>\n",
       "  </thead>\n",
       "  <tbody>\n",
       "    <tr>\n",
       "      <th>0</th>\n",
       "      <td>Black</td>\n",
       "      <td>1074</td>\n",
       "      <td>8774.698324</td>\n",
       "      <td>9424026.0</td>\n",
       "      <td>NaN</td>\n",
       "    </tr>\n",
       "    <tr>\n",
       "      <th>1</th>\n",
       "      <td>Blue</td>\n",
       "      <td>12746</td>\n",
       "      <td>18.335478</td>\n",
       "      <td>233704.0</td>\n",
       "      <td>12341.0</td>\n",
       "    </tr>\n",
       "    <tr>\n",
       "      <th>2</th>\n",
       "      <td>Green</td>\n",
       "      <td>882</td>\n",
       "      <td>6782.206349</td>\n",
       "      <td>5981906.0</td>\n",
       "      <td>NaN</td>\n",
       "    </tr>\n",
       "  </tbody>\n",
       "</table>\n",
       "</div>"
      ],
      "text/plain": [
       "  Company    HID         Mean        Sum        0\n",
       "0   Black   1074  8774.698324  9424026.0      NaN\n",
       "1    Blue  12746    18.335478   233704.0  12341.0\n",
       "2   Green    882  6782.206349  5981906.0      NaN"
      ]
     },
     "execution_count": 50,
     "metadata": {},
     "output_type": "execute_result"
    }
   ],
   "source": [
    "gmv_analysis = gmv_analysis.reset_index()\n",
    "gmv_analysis"
   ]
  },
  {
   "cell_type": "code",
   "execution_count": 51,
   "id": "eba87c18",
   "metadata": {},
   "outputs": [
    {
     "data": {
      "text/plain": [
       "<AxesSubplot:xlabel='Company', ylabel='Mean'>"
      ]
     },
     "execution_count": 51,
     "metadata": {},
     "output_type": "execute_result"
    },
    {
     "data": {
      "image/png": "[encoded data removed]",
      "text/plain": [
       "<Figure size 432x288 with 1 Axes>"
      ]
     },
     "metadata": {
      "needs_background": "light"
     },
     "output_type": "display_data"
    }
   ],
   "source": [
    "sns.barplot(data = gmv_analysis, x='Company', y='Mean')"
   ]
  },
  {
   "cell_type": "markdown",
   "id": "46f19095",
   "metadata": {},
   "source": [
    "В датасете есть данные о суммарных GVM пользователей из компаний Black, Blue, Green. Несмотря на самое большое количество пользователей компании Blue, большинство из них не покупают услуги/продукты компании, так как их GMV равняется нулю. С другой стороны, все пользователи компаний Black и Green тратят определенную сумму денег на услуги/продукты компаний (в среднем на пользователя более 8000 и 6000, соответственно). Можно предположить, что для компании Blue характерно наличие обширного бесплатного пула функций/услуг, в то время как все продукты/услуги других компаний - платные, поскольку в этих компаниях нет ни одного зарегистрированного пользователя, который бы не приобрел что-либо."
   ]
  },
  {
   "cell_type": "code",
   "execution_count": 44,
   "id": "3ac6bb47",
   "metadata": {},
   "outputs": [],
   "source": [
    "gmv_order = total.query('gvm_order_count >= 0')"
   ]
  },
  {
   "cell_type": "code",
   "execution_count": 45,
   "id": "91988f8b",
   "metadata": {},
   "outputs": [],
   "source": [
    "gmv_order_zero = total.query('gvm_order_count == 0')"
   ]
  },
  {
   "cell_type": "code",
   "execution_count": 46,
   "id": "934b8600",
   "metadata": {},
   "outputs": [
    {
     "name": "stderr",
     "output_type": "stream",
     "text": [
      "<ipython-input-46-6f73476c3da7>:1: SettingWithCopyWarning: \n",
      "A value is trying to be set on a copy of a slice from a DataFrame.\n",
      "Try using .loc[row_indexer,col_indexer] = value instead\n",
      "\n",
      "See the caveats in the documentation: https://pandas.pydata.org/pandas-docs/stable/user_guide/indexing.html#returning-a-view-versus-a-copy\n",
      "  gmv_order['gvm_order_count'] = gmv_order['gvm_order_count'].astype('float64')\n"
     ]
    }
   ],
   "source": [
    "gmv_order['gvm_order_count'] = gmv_order['gvm_order_count'].astype('float64')"
   ]
  },
  {
   "cell_type": "code",
   "execution_count": 47,
   "id": "525d96bd",
   "metadata": {},
   "outputs": [],
   "source": [
    "gmv_analysis_order = pd.DataFrame(gmv_order.groupby('Company')['HID'].nunique())\n",
    "gmv_analysis_order['Mean'] = gmv_order.groupby('Company')['gvm_order_count'].mean()\n",
    "gmv_analysis_order['Sum'] = gmv_order.groupby('Company')['gvm_order_count'].sum()\n",
    "gmv_analysis_order['0'] = gmv_order_zero.groupby('Company')['HID'].nunique()"
   ]
  },
  {
   "cell_type": "code",
   "execution_count": 48,
   "id": "1a6a6735",
   "metadata": {},
   "outputs": [
    {
     "data": {
      "text/html": [
       "<div>\n",
       "<style scoped>\n",
       "    .dataframe tbody tr th:only-of-type {\n",
       "        vertical-align: middle;\n",
       "    }\n",
       "\n",
       "    .dataframe tbody tr th {\n",
       "        vertical-align: top;\n",
       "    }\n",
       "\n",
       "    .dataframe thead th {\n",
       "        text-align: right;\n",
       "    }\n",
       "</style>\n",
       "<table border=\"1\" class=\"dataframe\">\n",
       "  <thead>\n",
       "    <tr style=\"text-align: right;\">\n",
       "      <th></th>\n",
       "      <th>HID</th>\n",
       "      <th>Mean</th>\n",
       "      <th>Sum</th>\n",
       "      <th>0</th>\n",
       "    </tr>\n",
       "    <tr>\n",
       "      <th>Company</th>\n",
       "      <th></th>\n",
       "      <th></th>\n",
       "      <th></th>\n",
       "      <th></th>\n",
       "    </tr>\n",
       "  </thead>\n",
       "  <tbody>\n",
       "    <tr>\n",
       "      <th>Black</th>\n",
       "      <td>1074</td>\n",
       "      <td>4.056797</td>\n",
       "      <td>4357.0</td>\n",
       "      <td>NaN</td>\n",
       "    </tr>\n",
       "    <tr>\n",
       "      <th>Green</th>\n",
       "      <td>882</td>\n",
       "      <td>8.726757</td>\n",
       "      <td>7697.0</td>\n",
       "      <td>NaN</td>\n",
       "    </tr>\n",
       "  </tbody>\n",
       "</table>\n",
       "</div>"
      ],
      "text/plain": [
       "          HID      Mean     Sum   0\n",
       "Company                            \n",
       "Black    1074  4.056797  4357.0 NaN\n",
       "Green     882  8.726757  7697.0 NaN"
      ]
     },
     "execution_count": 48,
     "metadata": {},
     "output_type": "execute_result"
    }
   ],
   "source": [
    "gmv_analysis_order"
   ]
  },
  {
   "cell_type": "markdown",
   "id": "c6fdf653",
   "metadata": {},
   "source": [
    "Данные о количестве успешных заказов есть только для двух компаний **Black** и **Green**. Одновременно с этим, отсуствие нулевого количества заказов также подтверждает вывод о том, что для этих компаний характерно предоставление только платных услуг (отсутствие бесплатных опций => пользователи вынуждены покупать). Суммарное количество успешных заказов значительно больше количества уникальных пользователей каждой компании. Можно предположить, что компании реализируют подписную бизнес модель: пользователи вынуждены платить за определенный период пользования."
   ]
  },
  {
   "cell_type": "markdown",
   "id": "0d2b2580",
   "metadata": {},
   "source": [
    "## Основные выводы и итоги"
   ]
  },
  {
   "cell_type": "markdown",
   "id": "7035ce7c",
   "metadata": {},
   "source": [
    "**Общие наблюдения:**\n",
    "- данные о 100.000 пользователей четырех компаний: Red, Blue, Black, Green \n",
    "- 38.354 пользователей датасета не зарегистрированы ни в одной из команий, в то время как около 9 тысяч пользователей зарегистрированы более, чем в одной компании\n",
    "- неравномерное распределение пользователей в датасете по регистрациям в компаниях: больше половины из 100.000 пользователей - зарегистрированы в компании Red (55k+), более 12 тысяч - Blue, 1074 - Black, 882 - Green\n",
    "\n",
    "**Приложения на разных платформах**\n",
    "- Для компаний **Black** и **Green** характерно наличие у наибольшего количества пользователей приложения на платформе Apple (30%, 26%, соответственно). Однако если разница в доле пользователей компании **Black**, использующих приложения для Android и Web не слишком серьезная, то в компании **Green** критически мало пользователей используют ПК (всего лишь около 3%). Пользователи компании **Blue** практически в равной степени используют версии для Android и ПК (по 22% пользователей). \n",
    "- Для компании **Red** стоит отметить, что более 80% пользователей имеют приложения на своих ПК, что является наибольшим значением для среди всех компаний. Более 40% пользователей пользуются приложением на Android, 16% - на платформе Apple. \n",
    "\n",
    "=> Black и Green - компании, ориентированные на мобильные устройства (Android, Apple), в то время как Red - более популярна в рамках пользователей ПК\n",
    "\n",
    "**Территориальное расположение в Москве**\n",
    "- Наибольшая доля пользователей из Москвы - в компании Green (более 76%). В компаниях Red и Blue процент пользователей из Москвы схож: 12% и 16%, соответственно. Значительно меньше зарегистрированных в Москве пользователей у компании Black, всего 3%.\n",
    "\n",
    "**GMV**\n",
    "- В датасете есть данные о суммарных GVM пользователей из компаний **Black**, **Blue**, **Green**. Несмотря на самое большое количество пользователей компании Blue, большинство из них не покупают услуги/продукты компании, так как их GMV равняется нулю. С другой стороны, все пользователи компаний Black и Green тратят определенную сумму денег на услуги/продукты компаний (в среднем на пользователя более 8000 и 6000, соответственно). Можно предположить, что для компании Blue характерно наличие обширного бесплатного пула функций/услуг, в то время как все продукты/услуги других компаний - платные. \n",
    "- Данные о количестве успешных заказов есть только для двух компаний **Black** и **Green**. Одновременно с этим, отсуствие нулевого количества заказов также подтверждает вывод о том, что для этих компаний характерно предоставление только платных услуг (отсутствие бесплатных опций => пользователи вынуждены покупать). Суммарное количество успешных заказов значительно больше количества уникальных пользователей каждой компании. Можно предположить, что компании реализируют подписную бизнес модель: пользователи вынуждены платить за определенный период пользования."
   ]
  }
 ],
 "metadata": {
  "kernelspec": {
   "display_name": "Python 3",
   "language": "python",
   "name": "python3"
  },
  "language_info": {
   "codemirror_mode": {
    "name": "ipython",
    "version": 3
   },
   "file_extension": ".py",
   "mimetype": "text/x-python",
   "name": "python",
   "nbconvert_exporter": "python",
   "pygments_lexer": "ipython3",
   "version": "3.8.8"
  },
  "toc": {
   "base_numbering": 1,
   "nav_menu": {},
   "number_sections": true,
   "sideBar": true,
   "skip_h1_title": true,
   "title_cell": "Table of Contents",
   "title_sidebar": "Contents",
   "toc_cell": true,
   "toc_position": {},
   "toc_section_display": true,
   "toc_window_display": false
  }
 },
 "nbformat": 4,
 "nbformat_minor": 5
}
